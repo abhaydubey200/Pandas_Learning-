{
 "cells": [
  {
   "cell_type": "code",
   "execution_count": 1,
   "id": "0b81ec89-13c9-4109-b350-243b4593024a",
   "metadata": {},
   "outputs": [],
   "source": [
    "import numpy as np"
   ]
  },
  {
   "cell_type": "markdown",
   "id": "ccbc053e-e1ec-4176-b666-d66d2b5e8568",
   "metadata": {},
   "source": [
    "### 1D Array In Numpy"
   ]
  },
  {
   "cell_type": "code",
   "execution_count": 3,
   "id": "b50894a8-ca63-4ccb-a11c-f1504057c181",
   "metadata": {},
   "outputs": [
    {
     "name": "stdout",
     "output_type": "stream",
     "text": [
      "[1 2 3 4 5] \n",
      " <class 'numpy.ndarray'>\n"
     ]
    }
   ],
   "source": [
    "x=np.array([1,2,3,4,5])\n",
    "print(x,\"\\n\",type(x))"
   ]
  },
  {
   "cell_type": "markdown",
   "id": "5b7f00db-7554-48d3-8aa1-96c4d0724d3d",
   "metadata": {},
   "source": [
    "### 2D Array In Numpy"
   ]
  },
  {
   "cell_type": "code",
   "execution_count": 4,
   "id": "e56e4663-5ffb-458c-bf00-26286c3c2498",
   "metadata": {},
   "outputs": [
    {
     "name": "stdout",
     "output_type": "stream",
     "text": [
      "[[ 1  2  3  4  5]\n",
      " [ 6  7  8  9 10]] \n",
      " <class 'numpy.ndarray'>\n"
     ]
    }
   ],
   "source": [
    "x=np.array([[1,2,3,4,5],[6,7,8,9,10]])\n",
    "print(x,\"\\n\",type(x)"
   ]
  },
  {
   "cell_type": "markdown",
   "id": "a5257038-b600-4959-9869-c1146469fbca",
   "metadata": {},
   "source": [
    "### MultiDymention Array in Numpy"
   ]
  },
  {
   "cell_type": "code",
   "execution_count": 8,
   "id": "1d103a61-3d7a-44d3-a652-b6a2e46aba17",
   "metadata": {},
   "outputs": [
    {
     "name": "stdout",
     "output_type": "stream",
     "text": [
      "[list([1, 2, 3, 4, 5]) list([1, 2, 3, 4, 5, 6])\n",
      " list([1, 2, 3, 4, 5, 6, 7]) list([1, 2, 3, 4, 5, 6, 7, 8, 9])]\n",
      "\n",
      "Type: <class 'numpy.ndarray'>\n",
      "Shape: (4,)\n"
     ]
    }
   ],
   "source": [
    "x = np.array([[1,2,3,4,5],\n",
    "              [1,2,3,4,5,6],\n",
    "              [1,2,3,4,5,6,7],\n",
    "              [1,2,3,4,5,6,7,8,9]], dtype=object)\n",
    "\n",
    "print(x)\n",
    "print(\"\\nType:\", type(x))\n",
    "print(\"Shape:\", x.shape)\n"
   ]
  },
  {
   "cell_type": "markdown",
   "id": "86a5ad29-f64f-4e94-8fa6-35cb43f22e09",
   "metadata": {},
   "source": [
    "### All About Arrays\n"
   ]
  },
  {
   "cell_type": "code",
   "execution_count": 11,
   "id": "65df0b3c-a364-4c48-ae88-701301f6ef7b",
   "metadata": {},
   "outputs": [
    {
     "data": {
      "text/plain": [
       "array([[1., 1.],\n",
       "       [1., 1.],\n",
       "       [1., 1.]])"
      ]
     },
     "execution_count": 11,
     "metadata": {},
     "output_type": "execute_result"
    }
   ],
   "source": [
    "np.ones((3, 2))                          # Array of ones\n"
   ]
  },
  {
   "cell_type": "code",
   "execution_count": 10,
   "id": "fb676ef5-f6e0-4d16-9e7f-793e1c453e86",
   "metadata": {},
   "outputs": [
    {
     "data": {
      "text/plain": [
       "array([[0., 0., 0.],\n",
       "       [0., 0., 0.]])"
      ]
     },
     "execution_count": 10,
     "metadata": {},
     "output_type": "execute_result"
    }
   ],
   "source": [
    "np.zeros((2, 3))                         # Array of zeros\n"
   ]
  },
  {
   "cell_type": "code",
   "execution_count": 17,
   "id": "78b5fd21-e184-4714-8ac8-44676f4ec708",
   "metadata": {},
   "outputs": [
    {
     "data": {
      "text/plain": [
       "array([[[7, 7, 7, 7],\n",
       "        [7, 7, 7, 7]],\n",
       "\n",
       "       [[7, 7, 7, 7],\n",
       "        [7, 7, 7, 7]],\n",
       "\n",
       "       [[7, 7, 7, 7],\n",
       "        [7, 7, 7, 7]],\n",
       "\n",
       "       [[7, 7, 7, 7],\n",
       "        [7, 7, 7, 7]]])"
      ]
     },
     "execution_count": 17,
     "metadata": {},
     "output_type": "execute_result"
    }
   ],
   "source": [
    "np.full((4, 2, 4), 7)                       # Array of sevens\n"
   ]
  },
  {
   "cell_type": "code",
   "execution_count": 13,
   "id": "157632ce-9eb7-46f4-9686-8ceb852cb236",
   "metadata": {},
   "outputs": [
    {
     "data": {
      "text/plain": [
       "array([[1., 0., 0.],\n",
       "       [0., 1., 0.],\n",
       "       [0., 0., 1.]])"
      ]
     },
     "execution_count": 13,
     "metadata": {},
     "output_type": "execute_result"
    }
   ],
   "source": [
    "np.eye(3)                                # Identity matrix\n",
    "\n"
   ]
  },
  {
   "cell_type": "code",
   "execution_count": 14,
   "id": "dbc4bf0b-482a-4461-b6d5-4ea23c818e22",
   "metadata": {},
   "outputs": [
    {
     "data": {
      "text/plain": [
       "array([0, 2, 4, 6, 8])"
      ]
     },
     "execution_count": 14,
     "metadata": {},
     "output_type": "execute_result"
    }
   ],
   "source": [
    "np.arange(0, 10, 2)                      # Range with step\n"
   ]
  },
  {
   "cell_type": "code",
   "execution_count": 15,
   "id": "aaeb8073-64e5-4907-901a-e72460e3cb4c",
   "metadata": {},
   "outputs": [
    {
     "data": {
      "text/plain": [
       "array([0.  , 0.25, 0.5 , 0.75, 1.  ])"
      ]
     },
     "execution_count": 15,
     "metadata": {},
     "output_type": "execute_result"
    }
   ],
   "source": [
    "np.linspace(0, 1, 5)                     # 5 numbers from 0 to 1\n"
   ]
  },
  {
   "cell_type": "markdown",
   "id": "a70c9731-ca90-4a6d-b0ca-e674d8f45a6b",
   "metadata": {},
   "source": [
    "### Vector"
   ]
  },
  {
   "cell_type": "code",
   "execution_count": 18,
   "id": "a56e95fc-2b0e-46c7-8511-caa81cfe941e",
   "metadata": {},
   "outputs": [
    {
     "name": "stdout",
     "output_type": "stream",
     "text": [
      "[10 20 30 40]\n"
     ]
    }
   ],
   "source": [
    "vector = np.array([10, 20, 30, 40])\n",
    "print (vector)"
   ]
  },
  {
   "cell_type": "markdown",
   "id": "127417e7-3b13-41d5-831e-18ad77e6e91f",
   "metadata": {},
   "source": [
    "### Matrix"
   ]
  },
  {
   "cell_type": "code",
   "execution_count": 21,
   "id": "8085ce7c-0dba-4b6d-abd1-37a64fdae476",
   "metadata": {},
   "outputs": [
    {
     "name": "stdout",
     "output_type": "stream",
     "text": [
      "[[1 2 3]\n",
      " [4 5 6]]\n"
     ]
    }
   ],
   "source": [
    "matrix = np.array([[1, 2, 3], [4, 5, 6]])\n",
    "print(matrix)"
   ]
  },
  {
   "cell_type": "markdown",
   "id": "6e120890-e24c-45f3-871d-8cd295e950f2",
   "metadata": {},
   "source": [
    "### Tensor"
   ]
  },
  {
   "cell_type": "code",
   "execution_count": 23,
   "id": "0db195b7-388e-4152-9e06-b54ecca7f3cb",
   "metadata": {},
   "outputs": [
    {
     "name": "stdout",
     "output_type": "stream",
     "text": [
      "[[[1 2]\n",
      "  [3 4]]\n",
      "\n",
      " [[5 6]\n",
      "  [7 8]]]\n"
     ]
    }
   ],
   "source": [
    "tensor = np.array([\n",
    "    [[1, 2], [3, 4]],\n",
    "    [[5, 6], [7, 8]]\n",
    "])\n",
    "print(tensor)"
   ]
  },
  {
   "cell_type": "markdown",
   "id": "d9953b03-7314-4d29-96a9-d27a2ff2f60d",
   "metadata": {},
   "source": [
    "### Array Operations"
   ]
  },
  {
   "cell_type": "code",
   "execution_count": 25,
   "id": "248bda22-e783-4377-a335-9aeb621565a0",
   "metadata": {},
   "outputs": [
    {
     "data": {
      "text/plain": [
       "(2, 3)"
      ]
     },
     "execution_count": 25,
     "metadata": {},
     "output_type": "execute_result"
    }
   ],
   "source": [
    "matrix.shape                                # Dimensions\n"
   ]
  },
  {
   "cell_type": "code",
   "execution_count": 26,
   "id": "4d689e19-447a-441d-a6a7-67be99cdadcc",
   "metadata": {},
   "outputs": [
    {
     "data": {
      "text/plain": [
       "6"
      ]
     },
     "execution_count": 26,
     "metadata": {},
     "output_type": "execute_result"
    }
   ],
   "source": [
    "matrix.size                                 # Total elements\n",
    "\n"
   ]
  },
  {
   "cell_type": "code",
   "execution_count": 27,
   "id": "89c61e15-d964-40ba-9a18-79b4aca7a6de",
   "metadata": {},
   "outputs": [
    {
     "data": {
      "text/plain": [
       "2"
      ]
     },
     "execution_count": 27,
     "metadata": {},
     "output_type": "execute_result"
    }
   ],
   "source": [
    "matrix.ndim                                 # Number of dimensions\n"
   ]
  },
  {
   "cell_type": "code",
   "execution_count": 28,
   "id": "ab9be96c-df67-4474-bd2c-3f9b9f3a4575",
   "metadata": {},
   "outputs": [
    {
     "data": {
      "text/plain": [
       "dtype('int32')"
      ]
     },
     "execution_count": 28,
     "metadata": {},
     "output_type": "execute_result"
    }
   ],
   "source": [
    "matrix.dtype                                # Data type\n"
   ]
  },
  {
   "cell_type": "code",
   "execution_count": 29,
   "id": "42411ba0-5aa6-4b5b-a930-ea0d39f6155a",
   "metadata": {},
   "outputs": [
    {
     "data": {
      "text/plain": [
       "array([[1, 2, 3],\n",
       "       [4, 5, 6]])"
      ]
     },
     "execution_count": 29,
     "metadata": {},
     "output_type": "execute_result"
    }
   ],
   "source": [
    "matrix.reshape(2, 3)                        # Change shape"
   ]
  },
  {
   "cell_type": "code",
   "execution_count": 30,
   "id": "705de466-86c2-49ad-9650-d1a1b23a6bec",
   "metadata": {},
   "outputs": [
    {
     "data": {
      "text/plain": [
       "array([1, 2, 3, 4, 5, 6])"
      ]
     },
     "execution_count": 30,
     "metadata": {},
     "output_type": "execute_result"
    }
   ],
   "source": [
    "matrix.flatten()                            # 2D to 1D"
   ]
  },
  {
   "cell_type": "code",
   "execution_count": 31,
   "id": "9dd56137-4533-41c1-b198-6004071b9a57",
   "metadata": {},
   "outputs": [
    {
     "data": {
      "text/plain": [
       "array([[1, 2, 3, 4, 5, 6]])"
      ]
     },
     "execution_count": 31,
     "metadata": {},
     "output_type": "execute_result"
    }
   ],
   "source": [
    "v_col = matrix.reshape(-1, 1)\n",
    "v_col.T  # Now it transposes correctly\n"
   ]
  },
  {
   "cell_type": "markdown",
   "id": "d9316b51-94fd-48cf-809a-be467031f533",
   "metadata": {},
   "source": [
    "###  Indexing, Slicing, Filtering\n",
    "\n"
   ]
  },
  {
   "cell_type": "code",
   "execution_count": 33,
   "id": "aa439c0a-52a7-4e5b-b358-f77bd6d936ea",
   "metadata": {},
   "outputs": [
    {
     "data": {
      "text/plain": [
       "(array([1, 2, 3]), array([4, 5, 6]))"
      ]
     },
     "execution_count": 33,
     "metadata": {},
     "output_type": "execute_result"
    }
   ],
   "source": [
    "matrix[0], matrix[-1]                          # Indexing\n"
   ]
  },
  {
   "cell_type": "code",
   "execution_count": 34,
   "id": "4b13ea96-7224-4aa4-92f4-6a8bd3020155",
   "metadata": {},
   "outputs": [
    {
     "data": {
      "text/plain": [
       "array([[4, 5, 6]])"
      ]
     },
     "execution_count": 34,
     "metadata": {},
     "output_type": "execute_result"
    }
   ],
   "source": [
    "matrix[1:4]                                 # Slicing\n"
   ]
  },
  {
   "cell_type": "code",
   "execution_count": 35,
   "id": "ee35b2f5-f991-4089-bde9-6e821bbda3c2",
   "metadata": {},
   "outputs": [
    {
     "data": {
      "text/plain": [
       "array([6])"
      ]
     },
     "execution_count": 35,
     "metadata": {},
     "output_type": "execute_result"
    }
   ],
   "source": [
    "matrix[matrix > 5]                             # Boolean filtering\n"
   ]
  },
  {
   "cell_type": "code",
   "execution_count": 36,
   "id": "8a894217-4336-4dea-9e0c-930015ecddb4",
   "metadata": {},
   "outputs": [
    {
     "data": {
      "text/plain": [
       "array([[1, 2, 3]])"
      ]
     },
     "execution_count": 36,
     "metadata": {},
     "output_type": "execute_result"
    }
   ],
   "source": [
    "matrix[::2]                                 # Step slicing\n"
   ]
  },
  {
   "cell_type": "markdown",
   "id": "53895d2d-29f5-4496-819f-09f64a984f66",
   "metadata": {},
   "source": [
    "### Sorting"
   ]
  },
  {
   "cell_type": "code",
   "execution_count": 40,
   "id": "237f76ee-f28a-42f5-a175-32380d652d9c",
   "metadata": {},
   "outputs": [
    {
     "name": "stdout",
     "output_type": "stream",
     "text": [
      "[ 1  2  3  5  6  7  8 11]\n"
     ]
    }
   ],
   "source": [
    "x=np.array([1,2,3,6,5,11,7,8])                   # for normal sorting\n",
    "print(np.sort(x))"
   ]
  },
  {
   "cell_type": "code",
   "execution_count": 47,
   "id": "ab6ace59-08d6-46b6-9204-ee1cd698aa1e",
   "metadata": {},
   "outputs": [
    {
     "name": "stdout",
     "output_type": "stream",
     "text": [
      "[[1 2]\n",
      " [3 4]\n",
      " [6 7]]\n",
      "[[1 2]\n",
      " [3 4]\n",
      " [6 7]]\n"
     ]
    }
   ],
   "source": [
    "array_2d=np.array([[1,2],[3,4],[6,7]])\n",
    "print(np.sort(array_2d,axis=0))                      # for row sorting\n",
    "print(np.sort(array_2d,axis=1))                      # for column sorting\n"
   ]
  },
  {
   "cell_type": "markdown",
   "id": "9ba9402b-accc-4233-afc1-151a86f6430a",
   "metadata": {},
   "source": [
    "### Filter with Conditions"
   ]
  },
  {
   "cell_type": "code",
   "execution_count": 48,
   "id": "58dd6634-ff89-448c-aa9f-e24896d76c0b",
   "metadata": {},
   "outputs": [
    {
     "name": "stdout",
     "output_type": "stream",
     "text": [
      "[45 60]\n"
     ]
    }
   ],
   "source": [
    "arr = np.array([10, 25, 30, 45, 60])\n",
    "# Filter values > 30\n",
    "filtered = arr[arr > 30]\n",
    "print(filtered)"
   ]
  },
  {
   "cell_type": "code",
   "execution_count": 49,
   "id": "08426f4b-34d9-4f57-8356-b9ca95c1ff8b",
   "metadata": {},
   "outputs": [
    {
     "name": "stdout",
     "output_type": "stream",
     "text": [
      "[25 30 45]\n"
     ]
    }
   ],
   "source": [
    "# Filter values between 20 and 50\n",
    "filtered = arr[(arr > 20) & (arr < 50)]\n",
    "print(filtered)"
   ]
  },
  {
   "cell_type": "code",
   "execution_count": 50,
   "id": "d5941b7e-fcb2-4abb-8c9b-a9816e1b12cf",
   "metadata": {},
   "outputs": [
    {
     "name": "stdout",
     "output_type": "stream",
     "text": [
      "[[30 40]\n",
      " [50 60]]\n"
     ]
    }
   ],
   "source": [
    "matrix = np.array([[10, 20], [30, 40], [50, 60]])\n",
    "\n",
    "# Get rows where first column > 25\n",
    "filtered_rows = matrix[matrix[:, 0] > 25]\n",
    "print(filtered_rows)\n"
   ]
  },
  {
   "cell_type": "code",
   "execution_count": 51,
   "id": "7762882c-5135-4ab2-9800-2c906baa1166",
   "metadata": {},
   "outputs": [
    {
     "name": "stdout",
     "output_type": "stream",
     "text": [
      "(array([2, 3], dtype=int64),)\n",
      "[25 35]\n"
     ]
    }
   ],
   "source": [
    "arr = np.array([5, 15, 25, 35])\n",
    "indices = np.where(arr > 20)\n",
    "print(indices)  # (array([2, 3]),)\n",
    "print(arr[indices])\n"
   ]
  },
  {
   "cell_type": "code",
   "execution_count": 52,
   "id": "f2de7a9b-f2bb-4341-aa26-fc01955d0535",
   "metadata": {},
   "outputs": [
    {
     "name": "stdout",
     "output_type": "stream",
     "text": [
      "[1 3]\n"
     ]
    }
   ],
   "source": [
    "arr = np.array([1, 2, 3, 4])\n",
    "mask = np.array([True, False, True, False])\n",
    "print(arr[mask])\n"
   ]
  },
  {
   "cell_type": "markdown",
   "id": "e6186cb1-c396-4056-a23f-3900012a6db3",
   "metadata": {},
   "source": [
    "### Aggregation Functions"
   ]
  },
  {
   "cell_type": "code",
   "execution_count": 54,
   "id": "54b853d2-6ece-495f-a9dd-0023894908aa",
   "metadata": {},
   "outputs": [],
   "source": [
    "arr = np.array([5, 15, 25, 35])"
   ]
  },
  {
   "cell_type": "code",
   "execution_count": 55,
   "id": "1c1255d6-9887-451f-beed-a7491cf13a5f",
   "metadata": {},
   "outputs": [
    {
     "data": {
      "text/plain": [
       "(80, 20.0, 11.180339887498949)"
      ]
     },
     "execution_count": 55,
     "metadata": {},
     "output_type": "execute_result"
    }
   ],
   "source": [
    "np.sum(arr), np.mean(arr), np.std(arr)\n"
   ]
  },
  {
   "cell_type": "code",
   "execution_count": 56,
   "id": "3b7d1209-298d-49f6-a50d-373b39d438f3",
   "metadata": {},
   "outputs": [
    {
     "data": {
      "text/plain": [
       "(5, 35, 20.0)"
      ]
     },
     "execution_count": 56,
     "metadata": {},
     "output_type": "execute_result"
    }
   ],
   "source": [
    "np.min(arr), np.max(arr), np.median(arr)\n",
    "\n"
   ]
  },
  {
   "cell_type": "code",
   "execution_count": 57,
   "id": "4fbd6f2e-5770-4271-89c5-12dedf01467b",
   "metadata": {},
   "outputs": [
    {
     "data": {
      "text/plain": [
       "(0, 3)"
      ]
     },
     "execution_count": 57,
     "metadata": {},
     "output_type": "execute_result"
    }
   ],
   "source": [
    "np.argmin(arr), np.argmax(arr)"
   ]
  },
  {
   "cell_type": "code",
   "execution_count": 58,
   "id": "e97b5910-04bf-4645-8c40-d43b6a57dbee",
   "metadata": {},
   "outputs": [
    {
     "data": {
      "text/plain": [
       "(array([ 5, 20, 45, 80]), array([    5,    75,  1875, 65625]))"
      ]
     },
     "execution_count": 58,
     "metadata": {},
     "output_type": "execute_result"
    }
   ],
   "source": [
    "\n",
    "np.cumsum(arr), np.cumprod(arr)"
   ]
  },
  {
   "cell_type": "markdown",
   "id": "103bae30-46fc-493a-912d-75f6a02db9f9",
   "metadata": {},
   "source": [
    "### Math Operations (Element-wise)\n",
    "\n"
   ]
  },
  {
   "cell_type": "code",
   "execution_count": 61,
   "id": "6eb030bf-607b-45be-a3e5-dfb2a5463b88",
   "metadata": {},
   "outputs": [],
   "source": [
    "a = np.array([5, 15, 25, 35])\n",
    "b = np.array([15, 5, 30, 45])"
   ]
  },
  {
   "cell_type": "code",
   "execution_count": 62,
   "id": "97a05b7f-e40e-48c7-8984-1f1986d1f4d9",
   "metadata": {},
   "outputs": [
    {
     "data": {
      "text/plain": [
       "(array([20, 20, 55, 80]), array([20, 20, 55, 80]))"
      ]
     },
     "execution_count": 62,
     "metadata": {},
     "output_type": "execute_result"
    }
   ],
   "source": [
    "np.add(a, b), a + b                      # Addition\n"
   ]
  },
  {
   "cell_type": "code",
   "execution_count": 63,
   "id": "445674eb-24fa-4668-8960-62ca5f3c6442",
   "metadata": {},
   "outputs": [
    {
     "data": {
      "text/plain": [
       "(array([-10,  10,  -5, -10]), array([-10,  10,  -5, -10]))"
      ]
     },
     "execution_count": 63,
     "metadata": {},
     "output_type": "execute_result"
    }
   ],
   "source": [
    "np.subtract(a, b), a - b                 # Subtraction\n",
    "\n"
   ]
  },
  {
   "cell_type": "code",
   "execution_count": 64,
   "id": "91e95532-5dc2-4bd7-8ccb-d30cb5785fe5",
   "metadata": {},
   "outputs": [
    {
     "data": {
      "text/plain": [
       "(array([  75,   75,  750, 1575]), array([  75,   75,  750, 1575]))"
      ]
     },
     "execution_count": 64,
     "metadata": {},
     "output_type": "execute_result"
    }
   ],
   "source": [
    "np.multiply(a, b), a * b                 # Multiplication\n"
   ]
  },
  {
   "cell_type": "code",
   "execution_count": 65,
   "id": "e6b18ddf-6f88-40a7-93a5-651d1715513d",
   "metadata": {},
   "outputs": [
    {
     "data": {
      "text/plain": [
       "(array([0.33333333, 3.        , 0.83333333, 0.77777778]),\n",
       " array([0.33333333, 3.        , 0.83333333, 0.77777778]))"
      ]
     },
     "execution_count": 65,
     "metadata": {},
     "output_type": "execute_result"
    }
   ],
   "source": [
    "np.divide(a, b), a / b                   # Division"
   ]
  },
  {
   "cell_type": "code",
   "execution_count": 66,
   "id": "bcffc9d4-ec63-483c-bd2a-4526a088ed1a",
   "metadata": {},
   "outputs": [
    {
     "data": {
      "text/plain": [
       "array([  25,  225,  625, 1225], dtype=int32)"
      ]
     },
     "execution_count": 66,
     "metadata": {},
     "output_type": "execute_result"
    }
   ],
   "source": [
    "\n",
    "np.power(a, 2)                           # Exponentiation\n"
   ]
  },
  {
   "cell_type": "markdown",
   "id": "917ef18e-0d4d-4877-9e3c-cb2ab9342d62",
   "metadata": {},
   "source": [
    "### Advanced Functions"
   ]
  },
  {
   "cell_type": "code",
   "execution_count": 74,
   "id": "839ccf44-9f99-4069-a8ed-5e3c577ae1d0",
   "metadata": {},
   "outputs": [],
   "source": [
    "arr = np.array([90, 35, 55, 85,85])"
   ]
  },
  {
   "cell_type": "code",
   "execution_count": 75,
   "id": "7f4fba63-88a7-4c41-b424-525bf35cf8c2",
   "metadata": {},
   "outputs": [
    {
     "data": {
      "text/plain": [
       "array([35, 55, 85, 85, 90])"
      ]
     },
     "execution_count": 75,
     "metadata": {},
     "output_type": "execute_result"
    }
   ],
   "source": [
    "np.sort(arr)                             # Sorting\n"
   ]
  },
  {
   "cell_type": "code",
   "execution_count": 76,
   "id": "161bed14-f8ed-41fe-bad4-617aca517266",
   "metadata": {},
   "outputs": [
    {
     "data": {
      "text/plain": [
       "array([35, 55, 85, 90])"
      ]
     },
     "execution_count": 76,
     "metadata": {},
     "output_type": "execute_result"
    }
   ],
   "source": [
    "np.unique(arr)                           # Unique values\n"
   ]
  },
  {
   "cell_type": "code",
   "execution_count": 79,
   "id": "e26955de-df99-4bb4-acd0-31ac1d9ae7f4",
   "metadata": {},
   "outputs": [
    {
     "data": {
      "text/plain": [
       "array([ 5, 15, 25, 35, 15,  5, 30, 45])"
      ]
     },
     "execution_count": 79,
     "metadata": {},
     "output_type": "execute_result"
    }
   ],
   "source": [
    "a = np.array([5, 15, 25, 35])\n",
    "b = np.array([15, 5, 30, 45])\n",
    "np.concatenate([a, b], axis=0)           # Row-wise concat"
   ]
  },
  {
   "cell_type": "code",
   "execution_count": 80,
   "id": "a4aac4e9-57bd-4570-9c82-6d33e8c0758d",
   "metadata": {},
   "outputs": [
    {
     "data": {
      "text/plain": [
       "(array([[ 5, 15, 25, 35],\n",
       "        [15,  5, 30, 45]]),\n",
       " array([ 5, 15, 25, 35, 15,  5, 30, 45]))"
      ]
     },
     "execution_count": 80,
     "metadata": {},
     "output_type": "execute_result"
    }
   ],
   "source": [
    "\n",
    "np.vstack((a, b)), np.hstack((a, b))     # Stack arrays\n"
   ]
  },
  {
   "cell_type": "markdown",
   "id": "f975301c-b68b-4b22-9370-c1fafb067a86",
   "metadata": {},
   "source": [
    "### Linear Algebra (useful in advanced DA/ML)"
   ]
  },
  {
   "cell_type": "code",
   "execution_count": 93,
   "id": "3b50f3d4-7182-4de6-9c15-c41c9af88e4b",
   "metadata": {},
   "outputs": [],
   "source": [
    "a = np.array([5, 15, 25, 35])\n",
    "b = np.array([15, 5, 30, 45])\n",
    "matrix = np.array([[1, 2],[4,5]])"
   ]
  },
  {
   "cell_type": "code",
   "execution_count": 94,
   "id": "e90d20cf-a9f7-4a29-ac74-882cf3285288",
   "metadata": {},
   "outputs": [
    {
     "data": {
      "text/plain": [
       "2475"
      ]
     },
     "execution_count": 94,
     "metadata": {},
     "output_type": "execute_result"
    }
   ],
   "source": [
    "np.dot(a, b)                             # Dot product\n",
    "\n"
   ]
  },
  {
   "cell_type": "code",
   "execution_count": 95,
   "id": "6334d322-b2d1-4a43-8aa7-46a29cfef035",
   "metadata": {},
   "outputs": [
    {
     "data": {
      "text/plain": [
       "array([[-1.66666667,  0.66666667],\n",
       "       [ 1.33333333, -0.33333333]])"
      ]
     },
     "execution_count": 95,
     "metadata": {},
     "output_type": "execute_result"
    }
   ],
   "source": [
    "np.linalg.inv(matrix)                   # Inverse\n"
   ]
  },
  {
   "cell_type": "code",
   "execution_count": 96,
   "id": "7065203a-2a61-4218-9fed-f8e1154120ea",
   "metadata": {},
   "outputs": [
    {
     "data": {
      "text/plain": [
       "-2.9999999999999996"
      ]
     },
     "execution_count": 96,
     "metadata": {},
     "output_type": "execute_result"
    }
   ],
   "source": [
    "np.linalg.det(matrix)                   # Determinant\n"
   ]
  },
  {
   "cell_type": "code",
   "execution_count": 97,
   "id": "180b5e89-5925-47c9-b8c1-cfb3e7034190",
   "metadata": {},
   "outputs": [
    {
     "data": {
      "text/plain": [
       "EigResult(eigenvalues=array([-0.46410162,  6.46410162]), eigenvectors=array([[-0.80689822, -0.34372377],\n",
       "       [ 0.59069049, -0.9390708 ]]))"
      ]
     },
     "execution_count": 97,
     "metadata": {},
     "output_type": "execute_result"
    }
   ],
   "source": [
    "np.linalg.eig(matrix)                   # Eigenvalues"
   ]
  },
  {
   "cell_type": "code",
   "execution_count": null,
   "id": "86e1d273-e7a5-4c60-8280-3fd349b2a133",
   "metadata": {},
   "outputs": [],
   "source": []
  }
 ],
 "metadata": {
  "kernelspec": {
   "display_name": "Python 3 (ipykernel)",
   "language": "python",
   "name": "python3"
  },
  "language_info": {
   "codemirror_mode": {
    "name": "ipython",
    "version": 3
   },
   "file_extension": ".py",
   "mimetype": "text/x-python",
   "name": "python",
   "nbconvert_exporter": "python",
   "pygments_lexer": "ipython3",
   "version": "3.11.7"
  },
  "widgets": {
   "application/vnd.jupyter.widget-state+json": {
    "state": {},
    "version_major": 2,
    "version_minor": 0
   }
  }
 },
 "nbformat": 4,
 "nbformat_minor": 5
}
