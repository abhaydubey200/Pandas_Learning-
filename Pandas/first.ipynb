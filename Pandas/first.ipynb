{
 "cells": [
  {
   "cell_type": "code",
   "execution_count": null,
   "id": "8dd1a3af",
   "metadata": {
    "vscode": {
     "languageId": "plaintext"
    }
   },
   "outputs": [],
   "source": [
    "import  learn from learn"
   ]
  },
  {
   "cell_type": "code",
   "execution_count": null,
   "id": "09bbee2f",
   "metadata": {
    "vscode": {
     "languageId": "art"
    }
   },
   "outputs": [],
   "source": [
    "print(learn)"
   ]
  },
  {
   "cell_type": "code",
   "execution_count": null,
   "id": "71dd31e9",
   "metadata": {
    "vscode": {
     "languageId": "art"
    }
   },
   "outputs": [],
   "source": [
    "print(\"hello\")"
   ]
  }
 ],
 "metadata": {
  "language_info": {
   "name": "python"
  }
 },
 "nbformat": 4,
 "nbformat_minor": 5
}
